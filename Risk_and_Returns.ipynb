{
  "nbformat": 4,
  "nbformat_minor": 0,
  "metadata": {
    "kernelspec": {
      "name": "python3",
      "display_name": "Python 3",
      "language": "python"
    },
    "language_info": {
      "name": "python",
      "version": "3.6.7",
      "mimetype": "text/x-python",
      "codemirror_mode": {
        "name": "ipython",
        "version": 3
      },
      "pygments_lexer": "ipython3",
      "nbconvert_exporter": "python",
      "file_extension": ".py"
    },
    "colab": {
      "name": "Risk and Returns.ipynb",
      "provenance": [],
      "include_colab_link": true
    }
  },
  "cells": [
    {
      "cell_type": "markdown",
      "metadata": {
        "id": "view-in-github",
        "colab_type": "text"
      },
      "source": [
        "<a href=\"https://colab.research.google.com/github/Dennieeeee/Risk-and-Returns/blob/master/Risk_and_Returns.ipynb\" target=\"_parent\"><img src=\"https://colab.research.google.com/assets/colab-badge.svg\" alt=\"Open In Colab\"/></a>"
      ]
    },
    {
      "cell_type": "markdown",
      "metadata": {
        "dc": {
          "key": "3"
        },
        "deletable": false,
        "editable": false,
        "run_control": {
          "frozen": true
        },
        "tags": [
          "context"
        ],
        "id": "55hwQWAxmlmG",
        "colab_type": "text"
      },
      "source": [
        "## 1. Meet Professor William Sharpe\n",
        "<p>An investment may make sense if we expect it to return more money than it costs. But returns are only part of the story because they are risky - there may be a range of possible outcomes. How does one compare different investments that may deliver similar results on average, but exhibit different levels of risks?</p>\n",
        "<p><img style=\"float: left ; margin: 5px 20px 5px 1px;\" width=\"200\" src=\"https://assets.datacamp.com/production/project_66/img/sharpe.jpeg\"></p>\n",
        "<p>Enter William Sharpe. He introduced the <a href=\"https://web.stanford.edu/~wfsharpe/art/sr/sr.htm\"><em>reward-to-variability ratio</em></a> in 1966 that soon came to be called the Sharpe Ratio. It compares the expected returns for two investment opportunities and calculates the additional return per unit of risk an investor could obtain by choosing one over the other. In particular, it looks at the difference in returns for two investments and compares the average difference to the standard deviation (as a measure of risk) of this difference. A higher Sharpe ratio means that the reward will be higher for a given amount of risk. It is common to compare a specific opportunity against a benchmark that represents an entire category of investments.</p>\n",
        "<p>The Sharpe ratio has been one of the most popular risk/return measures in finance, not least because it's so simple to use. It also helped that Professor Sharpe won a Nobel Memorial Prize in Economics in 1990 for his work on the capital asset pricing model (CAPM).</p>\n",
        "<p>The Sharpe ratio is usually calculated for a portfolio and uses the risk-free interest rate as benchmark. We will simplify our example and use stocks instead of a portfolio. We will also use a stock index as benchmark rather than the risk-free interest rate because both are readily available at daily frequencies and we do not have to get into converting interest rates from annual to daily frequency. Just keep in mind that you would run the same calculation with portfolio returns and your risk-free rate of choice, e.g, the <a href=\"https://fred.stlouisfed.org/series/TB3MS\">3-month Treasury Bill Rate</a>. </p>\n",
        "<p>So let's learn about the Sharpe ratio by calculating it for the stocks of the two tech giants Facebook and Amazon. As benchmark we'll use the S&amp;P 500 that measures the performance of the 500 largest stocks in the US. When we use a stock index instead of the risk-free rate, the result is called the Information Ratio and is used to benchmark the return on active portfolio management because it tells you how much more return for a given unit of risk your portfolio manager earned relative to just putting your money into a low-cost index fund.</p>"
      ]
    },
    {
      "cell_type": "code",
      "metadata": {
        "dc": {
          "key": "3"
        },
        "tags": [
          "sample_code"
        ],
        "trusted": true,
        "scrolled": true,
        "id": "DxEuIA7GmlmH",
        "colab_type": "code",
        "colab": {},
        "outputId": "e9e09a08-57a3-4b2e-9240-6eb2c253f873"
      },
      "source": [
        "# Importing required modules\n",
        "import pandas as pd\n",
        "import numpy as np\n",
        "import matplotlib.pyplot as plt\n",
        "\n",
        "# Settings to produce nice plots in a Jupyter notebook\n",
        "plt.style.use('fivethirtyeight')\n",
        "%matplotlib inline\n",
        "\n",
        "# Reading in the data\n",
        "stock_data = pd.read_csv('datasets/stock_data.csv')\n",
        "benchmark_data = pd.read_csv('datasets/benchmark_data.csv')"
      ],
      "execution_count": null,
      "outputs": [
        {
          "output_type": "stream",
          "text": [
            "DEBUG:matplotlib.pyplot:Loaded backend module://ipykernel.pylab.backend_inline version unknown.\n"
          ],
          "name": "stderr"
        }
      ]
    },
    {
      "cell_type": "code",
      "metadata": {
        "dc": {
          "key": "3"
        },
        "trusted": true,
        "id": "WmaT97akmlmN",
        "colab_type": "code",
        "colab": {}
      },
      "source": [
        "benchmark_data.head()\n",
        "benchmark_data['Date']=pd.to_datetime(benchmark_data['Date'])"
      ],
      "execution_count": null,
      "outputs": []
    },
    {
      "cell_type": "code",
      "metadata": {
        "dc": {
          "key": "3"
        },
        "tags": [
          "tests"
        ],
        "hide": true,
        "trusted": true,
        "id": "Zw-3VmoWmlmQ",
        "colab_type": "code",
        "colab": {},
        "outputId": "63b86a94-84df-41d3-bdf9-d27b784001f5"
      },
      "source": [
        "%%nose\n",
        "\n",
        "def test_benchmark_data():\n",
        "    assert isinstance(benchmark_data, pd.core.frame.DataFrame), \\\n",
        "        'Did you import the benchmark_data as a DataFrame?'\n",
        "\n",
        "def test_stock_data():\n",
        "    assert isinstance(stock_data, pd.core.frame.DataFrame), \\\n",
        "        'Did you import the stock_data as a DataFrame?'\n",
        "\n",
        "def test_benchmark_index():\n",
        "    assert isinstance(benchmark_data.index, pd.core.indexes.datetimes.DatetimeIndex), \\\n",
        "        \"Did you set the 'Date' column as Index for the benchmark_data?\"\n",
        "\n",
        "def test_stock_index():\n",
        "    assert isinstance(stock_data.index, pd.core.indexes.datetimes.DatetimeIndex), \\\n",
        "        \"Did you set the 'Date' column as Index for the stock_data?\"\n",
        "\n",
        "def test_stock_data_shape():\n",
        "    assert stock_data.shape == (252, 2), \\\n",
        "        \"Did you use .dropna() on the stock_data?\"\n",
        "\n",
        "def test_stock_benchmark_shape():\n",
        "    assert benchmark_data.shape == (252, 1), \\\n",
        "        \"Did you use .dropna() on the benchmark_data?\"\n",
        "    "
      ],
      "execution_count": null,
      "outputs": [
        {
          "output_type": "display_data",
          "data": {
            "application/json": {
              "success": false,
              "summary": {
                "tests": 6,
                "failures": 4,
                "errors": 0
              },
              "tests": [
                {
                  "name": "__main__.test_benchmark_data",
                  "success": true,
                  "message": ""
                },
                {
                  "name": "__main__.test_stock_data",
                  "success": true,
                  "message": ""
                },
                {
                  "name": "__main__.test_benchmark_index",
                  "success": false,
                  "message": "AssertionError: Did you set the 'Date' column as Index for the benchmark_data?\n"
                },
                {
                  "name": "__main__.test_stock_index",
                  "success": false,
                  "message": "AssertionError: Did you set the 'Date' column as Index for the stock_data?\n"
                },
                {
                  "name": "__main__.test_stock_data_shape",
                  "success": false,
                  "message": "AssertionError: Did you use .dropna() on the stock_data?\n"
                },
                {
                  "name": "__main__.test_stock_benchmark_shape",
                  "success": false,
                  "message": "AssertionError: Did you use .dropna() on the benchmark_data?\n"
                }
              ]
            }
          },
          "metadata": {
            "tags": []
          }
        },
        {
          "output_type": "execute_result",
          "data": {
            "text/plain": [
              "2/6 tests passed; 4 failed\n",
              "========\n",
              "__main__.test_benchmark_index\n",
              "========\n",
              "Traceback (most recent call last):\n",
              "  File \"/usr/lib/python3.6/unittest/case.py\", line 59, in testPartExecutor\n",
              "    yield\n",
              "  File \"/usr/lib/python3.6/unittest/case.py\", line 605, in run\n",
              "    testMethod()\n",
              "  File \"/usr/local/lib/python3.6/dist-packages/nose/case.py\", line 198, in runTest\n",
              "    self.test(*self.arg)\n",
              "  File \"<string>\", line 12, in test_benchmark_index\n",
              "AssertionError: Did you set the 'Date' column as Index for the benchmark_data?\n",
              "\n",
              "========\n",
              "__main__.test_stock_index\n",
              "========\n",
              "Traceback (most recent call last):\n",
              "  File \"/usr/lib/python3.6/unittest/case.py\", line 59, in testPartExecutor\n",
              "    yield\n",
              "  File \"/usr/lib/python3.6/unittest/case.py\", line 605, in run\n",
              "    testMethod()\n",
              "  File \"/usr/local/lib/python3.6/dist-packages/nose/case.py\", line 198, in runTest\n",
              "    self.test(*self.arg)\n",
              "  File \"<string>\", line 16, in test_stock_index\n",
              "AssertionError: Did you set the 'Date' column as Index for the stock_data?\n",
              "\n",
              "========\n",
              "__main__.test_stock_data_shape\n",
              "========\n",
              "Traceback (most recent call last):\n",
              "  File \"/usr/lib/python3.6/unittest/case.py\", line 59, in testPartExecutor\n",
              "    yield\n",
              "  File \"/usr/lib/python3.6/unittest/case.py\", line 605, in run\n",
              "    testMethod()\n",
              "  File \"/usr/local/lib/python3.6/dist-packages/nose/case.py\", line 198, in runTest\n",
              "    self.test(*self.arg)\n",
              "  File \"<string>\", line 20, in test_stock_data_shape\n",
              "AssertionError: Did you use .dropna() on the stock_data?\n",
              "\n",
              "========\n",
              "__main__.test_stock_benchmark_shape\n",
              "========\n",
              "Traceback (most recent call last):\n",
              "  File \"/usr/lib/python3.6/unittest/case.py\", line 59, in testPartExecutor\n",
              "    yield\n",
              "  File \"/usr/lib/python3.6/unittest/case.py\", line 605, in run\n",
              "    testMethod()\n",
              "  File \"/usr/local/lib/python3.6/dist-packages/nose/case.py\", line 198, in runTest\n",
              "    self.test(*self.arg)\n",
              "  File \"<string>\", line 24, in test_stock_benchmark_shape\n",
              "AssertionError: Did you use .dropna() on the benchmark_data?\n",
              "\n"
            ]
          },
          "metadata": {
            "tags": []
          },
          "execution_count": 6
        }
      ]
    },
    {
      "cell_type": "markdown",
      "metadata": {
        "dc": {
          "key": "11"
        },
        "deletable": false,
        "editable": false,
        "run_control": {
          "frozen": true
        },
        "tags": [
          "context"
        ],
        "id": "yZLVyWnjmlmT",
        "colab_type": "text"
      },
      "source": [
        "## 2. A first glance at the data\n",
        "<p>Let's take a look the data to find out how many observations and variables we have at our disposal.</p>"
      ]
    },
    {
      "cell_type": "code",
      "metadata": {
        "dc": {
          "key": "11"
        },
        "tags": [
          "sample_code"
        ],
        "trusted": true,
        "id": "6wxvbPXvmlmT",
        "colab_type": "code",
        "colab": {},
        "outputId": "5d901c09-565d-4a75-ea95-943fbd826407"
      },
      "source": [
        "# Display summary for stock_data\n",
        "print('Stocks\\n',stock_data.shape)\n",
        "# ... YOUR CODE FOR TASK 2 HERE ...\n",
        "\n",
        "# Display summary for benchmark_data\n",
        "print('\\nBenchmarks\\n',benchmark_data.shape)\n",
        "# ... YOUR CODE FOR TASK 2 HERE ...\n"
      ],
      "execution_count": null,
      "outputs": [
        {
          "output_type": "stream",
          "text": [
            "Stocks\n",
            " (252, 3)\n",
            "\n",
            "Benchmarks\n",
            " (261, 2)\n"
          ],
          "name": "stdout"
        }
      ]
    },
    {
      "cell_type": "code",
      "metadata": {
        "dc": {
          "key": "11"
        },
        "tags": [
          "tests"
        ],
        "hide": true,
        "trusted": true,
        "id": "Yhkn5_THmlmW",
        "colab_type": "code",
        "colab": {},
        "outputId": "e722e59c-27aa-434d-967c-e6613bf80260"
      },
      "source": [
        "%%nose\n",
        "\n",
        "def test_nothing():\n",
        "    pass"
      ],
      "execution_count": null,
      "outputs": [
        {
          "output_type": "display_data",
          "data": {
            "application/json": {
              "success": true,
              "summary": {
                "tests": 1,
                "failures": 0,
                "errors": 0
              },
              "tests": [
                {
                  "name": "__main__.test_nothing",
                  "success": true,
                  "message": ""
                }
              ]
            }
          },
          "metadata": {
            "tags": []
          }
        },
        {
          "output_type": "execute_result",
          "data": {
            "text/plain": [
              "1/1 tests passed\n"
            ]
          },
          "metadata": {
            "tags": []
          },
          "execution_count": 8
        }
      ]
    },
    {
      "cell_type": "markdown",
      "metadata": {
        "dc": {
          "key": "18"
        },
        "deletable": false,
        "editable": false,
        "run_control": {
          "frozen": true
        },
        "tags": [
          "context"
        ],
        "id": "-vdNihhNmlmZ",
        "colab_type": "text"
      },
      "source": [
        "## 3. Plot & summarize daily prices for Amazon and Facebook\n",
        "<p>Before we compare an investment in either Facebook or Amazon with the index of the 500 largest companies in the US, let's visualize the data, so we better understand what we're dealing with.</p>"
      ]
    },
    {
      "cell_type": "code",
      "metadata": {
        "dc": {
          "key": "18"
        },
        "tags": [
          "sample_code"
        ],
        "trusted": true,
        "id": "HCMzv07emlmZ",
        "colab_type": "code",
        "colab": {}
      },
      "source": [
        "# visualize the stock_data\n",
        "# ... YOUR CODE FOR TASK 3 HERE ...\n",
        "\n",
        "\n",
        "# summarize the stock_data\n",
        "# ... YOUR CODE FOR TASK 3 HERE ...\n"
      ],
      "execution_count": null,
      "outputs": []
    },
    {
      "cell_type": "code",
      "metadata": {
        "dc": {
          "key": "18"
        },
        "tags": [
          "tests"
        ],
        "hide": true,
        "trusted": true,
        "id": "1xhF1-9dmlmc",
        "colab_type": "code",
        "colab": {},
        "outputId": "f0b4840b-b44e-4d94-893f-708b7d348b88"
      },
      "source": [
        "%%nose\n",
        "\n",
        "def test_nothing():\n",
        "    pass"
      ],
      "execution_count": null,
      "outputs": [
        {
          "output_type": "display_data",
          "data": {
            "application/json": {
              "success": true,
              "summary": {
                "tests": 1,
                "failures": 0,
                "errors": 0
              },
              "tests": [
                {
                  "name": "__main__.test_nothing",
                  "success": true,
                  "message": ""
                }
              ]
            }
          },
          "metadata": {
            "tags": []
          }
        },
        {
          "output_type": "execute_result",
          "data": {
            "text/plain": [
              "1/1 tests passed\n"
            ]
          },
          "metadata": {
            "tags": []
          },
          "execution_count": 10
        }
      ]
    },
    {
      "cell_type": "markdown",
      "metadata": {
        "dc": {
          "key": "25"
        },
        "deletable": false,
        "editable": false,
        "run_control": {
          "frozen": true
        },
        "tags": [
          "context"
        ],
        "id": "KDQ--Sw5mlmf",
        "colab_type": "text"
      },
      "source": [
        "## 4. Visualize & summarize daily values for the S&P 500\n",
        "<p>Let's also take a closer look at the value of the S&amp;P 500, our benchmark.</p>"
      ]
    },
    {
      "cell_type": "code",
      "metadata": {
        "dc": {
          "key": "25"
        },
        "tags": [
          "sample_code"
        ],
        "trusted": true,
        "id": "I8WbkKNLmlmf",
        "colab_type": "code",
        "colab": {}
      },
      "source": [
        "# plot the benchmark_data\n",
        "# ... YOUR CODE FOR TASK 4 HERE ...\n",
        "\n",
        "\n",
        "# summarize the benchmark_data\n",
        "# ... YOUR CODE FOR TASK 4 HERE ...\n"
      ],
      "execution_count": null,
      "outputs": []
    },
    {
      "cell_type": "code",
      "metadata": {
        "dc": {
          "key": "25"
        },
        "tags": [
          "tests"
        ],
        "hide": true,
        "trusted": true,
        "id": "pCIc9O2nmlmi",
        "colab_type": "code",
        "colab": {},
        "outputId": "b441937d-da8b-46dc-9d57-a601efbd7565"
      },
      "source": [
        "%%nose\n",
        "\n",
        "def test_nothing():\n",
        "    pass"
      ],
      "execution_count": null,
      "outputs": [
        {
          "output_type": "display_data",
          "data": {
            "application/json": {
              "success": true,
              "summary": {
                "tests": 1,
                "failures": 0,
                "errors": 0
              },
              "tests": [
                {
                  "name": "__main__.test_nothing",
                  "success": true,
                  "message": ""
                }
              ]
            }
          },
          "metadata": {
            "tags": []
          }
        },
        {
          "output_type": "execute_result",
          "data": {
            "text/plain": [
              "1/1 tests passed\n"
            ]
          },
          "metadata": {
            "tags": []
          },
          "execution_count": 12
        }
      ]
    },
    {
      "cell_type": "markdown",
      "metadata": {
        "dc": {
          "key": "32"
        },
        "deletable": false,
        "editable": false,
        "run_control": {
          "frozen": true
        },
        "tags": [
          "context"
        ],
        "id": "hdwOKzxTmlmk",
        "colab_type": "text"
      },
      "source": [
        "## 5. The inputs for the Sharpe Ratio: Starting with Daily Stock Returns\n",
        "<p>The Sharpe Ratio uses the difference in returns between the two investment opportunities under consideration.</p>\n",
        "<p>However, our data show the historical value of each investment, not the return. To calculate the return, we need to calculate the percentage change in value from one day to the next. We'll also take a look at the summary statistics because these will become our inputs as we calculate the Sharpe Ratio. Can you already guess the result?</p>"
      ]
    },
    {
      "cell_type": "code",
      "metadata": {
        "dc": {
          "key": "32"
        },
        "tags": [
          "sample_code"
        ],
        "trusted": true,
        "id": "eyH-HRzDmlml",
        "colab_type": "code",
        "colab": {}
      },
      "source": [
        "# calculate daily stock_data returns\n",
        "stock_returns = ...\n",
        "\n",
        "# plot the daily returns\n",
        "# ... YOUR CODE FOR TASK 5 HERE ...\n",
        "\n",
        "\n",
        "# summarize the daily returns\n",
        "# ... YOUR CODE FOR TASK 5 HERE ...\n"
      ],
      "execution_count": null,
      "outputs": []
    },
    {
      "cell_type": "code",
      "metadata": {
        "dc": {
          "key": "32"
        },
        "tags": [
          "tests"
        ],
        "hide": true,
        "trusted": true,
        "id": "93iAXnY1mlmn",
        "colab_type": "code",
        "colab": {},
        "outputId": "f6f62965-7c8d-4e2c-9272-3052fe2bda2d"
      },
      "source": [
        "%%nose\n",
        "\n",
        "def test_stock_returns():\n",
        "    assert stock_returns.equals(stock_data.pct_change()), \\\n",
        "    'Did you use pct_change()?'"
      ],
      "execution_count": null,
      "outputs": [
        {
          "output_type": "display_data",
          "data": {
            "application/json": {
              "success": false,
              "summary": {
                "tests": 1,
                "failures": 0,
                "errors": 1
              },
              "tests": [
                {
                  "name": "__main__.test_stock_returns",
                  "success": false,
                  "message": "AttributeError: 'ellipsis' object has no attribute 'equals'\n"
                }
              ]
            }
          },
          "metadata": {
            "tags": []
          }
        },
        {
          "output_type": "execute_result",
          "data": {
            "text/plain": [
              "0/1 tests passed; 1 failed\n",
              "========\n",
              "__main__.test_stock_returns\n",
              "========\n",
              "Traceback (most recent call last):\n",
              "  File \"/usr/lib/python3.6/unittest/case.py\", line 59, in testPartExecutor\n",
              "    yield\n",
              "  File \"/usr/lib/python3.6/unittest/case.py\", line 605, in run\n",
              "    testMethod()\n",
              "  File \"/usr/local/lib/python3.6/dist-packages/nose/case.py\", line 198, in runTest\n",
              "    self.test(*self.arg)\n",
              "  File \"<string>\", line 3, in test_stock_returns\n",
              "AttributeError: 'ellipsis' object has no attribute 'equals'\n",
              "\n"
            ]
          },
          "metadata": {
            "tags": []
          },
          "execution_count": 14
        }
      ]
    },
    {
      "cell_type": "markdown",
      "metadata": {
        "dc": {
          "key": "39"
        },
        "deletable": false,
        "editable": false,
        "run_control": {
          "frozen": true
        },
        "tags": [
          "context"
        ],
        "id": "l07M_Lnwmlmq",
        "colab_type": "text"
      },
      "source": [
        "## 6. Daily S&P 500 returns\n",
        "<p>For the S&amp;P 500, calculating daily returns works just the same way, we just need to make sure we select it as a <code>Series</code> using single brackets <code>[]</code> and not as a <code>DataFrame</code> to facilitate the calculations in the next step.</p>"
      ]
    },
    {
      "cell_type": "code",
      "metadata": {
        "dc": {
          "key": "39"
        },
        "tags": [
          "sample_code"
        ],
        "trusted": true,
        "id": "2QCQ3drMmlmr",
        "colab_type": "code",
        "colab": {}
      },
      "source": [
        "# calculate daily benchmark_data returns\n",
        "# ... YOUR CODE FOR TASK 6 HERE ...\n",
        "sp_returns = ...\n",
        "\n",
        "# plot the daily returns\n",
        "# ... YOUR CODE FOR TASK 6 HERE ...\n",
        "\n",
        "\n",
        "# summarize the daily returns\n",
        "# ... YOUR CODE FOR TASK 6 HERE ...\n"
      ],
      "execution_count": null,
      "outputs": []
    },
    {
      "cell_type": "code",
      "metadata": {
        "dc": {
          "key": "39"
        },
        "tags": [
          "tests"
        ],
        "hide": true,
        "trusted": true,
        "id": "GRVNHtmsmlmt",
        "colab_type": "code",
        "colab": {},
        "outputId": "0430993d-bb90-4372-db68-f620212b3eb0"
      },
      "source": [
        "%%nose\n",
        "\n",
        "def test_sp_returns():\n",
        "    assert sp_returns.equals(benchmark_data['S&P 500'].pct_change()), \\\n",
        "    'Did you use pct_change()?'"
      ],
      "execution_count": null,
      "outputs": [
        {
          "output_type": "display_data",
          "data": {
            "application/json": {
              "success": false,
              "summary": {
                "tests": 1,
                "failures": 0,
                "errors": 1
              },
              "tests": [
                {
                  "name": "__main__.test_sp_returns",
                  "success": false,
                  "message": "AttributeError: 'ellipsis' object has no attribute 'equals'\n"
                }
              ]
            }
          },
          "metadata": {
            "tags": []
          }
        },
        {
          "output_type": "execute_result",
          "data": {
            "text/plain": [
              "0/1 tests passed; 1 failed\n",
              "========\n",
              "__main__.test_sp_returns\n",
              "========\n",
              "Traceback (most recent call last):\n",
              "  File \"/usr/lib/python3.6/unittest/case.py\", line 59, in testPartExecutor\n",
              "    yield\n",
              "  File \"/usr/lib/python3.6/unittest/case.py\", line 605, in run\n",
              "    testMethod()\n",
              "  File \"/usr/local/lib/python3.6/dist-packages/nose/case.py\", line 198, in runTest\n",
              "    self.test(*self.arg)\n",
              "  File \"<string>\", line 3, in test_sp_returns\n",
              "AttributeError: 'ellipsis' object has no attribute 'equals'\n",
              "\n"
            ]
          },
          "metadata": {
            "tags": []
          },
          "execution_count": 16
        }
      ]
    },
    {
      "cell_type": "markdown",
      "metadata": {
        "dc": {
          "key": "46"
        },
        "deletable": false,
        "editable": false,
        "run_control": {
          "frozen": true
        },
        "tags": [
          "context"
        ],
        "id": "onomI_qlmlmv",
        "colab_type": "text"
      },
      "source": [
        "## 7. Calculating Excess Returns for Amazon and Facebook vs. S&P 500\n",
        "<p>Next, we need to calculate the relative performance of stocks vs. the S&amp;P 500 benchmark. This is calculated as the difference in returns between <code>stock_returns</code> and <code>sp_returns</code> for each day.</p>"
      ]
    },
    {
      "cell_type": "code",
      "metadata": {
        "dc": {
          "key": "46"
        },
        "tags": [
          "sample_code"
        ],
        "trusted": true,
        "id": "keK9qHBamlmw",
        "colab_type": "code",
        "colab": {}
      },
      "source": [
        "# calculate the difference in daily returns\n",
        "excess_returns = ...\n",
        "\n",
        "# plot the excess_returns\n",
        "# ... YOUR CODE FOR TASK 7 HERE ...\n",
        "\n",
        "\n",
        "# summarize the excess_returns\n",
        "# ... YOUR CODE FOR TASK 7 HERE ...\n"
      ],
      "execution_count": null,
      "outputs": []
    },
    {
      "cell_type": "code",
      "metadata": {
        "dc": {
          "key": "46"
        },
        "tags": [
          "tests"
        ],
        "hide": true,
        "trusted": true,
        "id": "onSIH5DBmlmy",
        "colab_type": "code",
        "colab": {},
        "outputId": "9d87b692-0a8b-47ca-f974-f19b78f7728f"
      },
      "source": [
        "%%nose\n",
        "\n",
        "def test_excess_returns():\n",
        "    assert excess_returns.equals(stock_returns.sub(sp_returns, axis=0)), \\\n",
        "    'Did you use .sub()?'"
      ],
      "execution_count": null,
      "outputs": [
        {
          "output_type": "display_data",
          "data": {
            "application/json": {
              "success": false,
              "summary": {
                "tests": 1,
                "failures": 0,
                "errors": 1
              },
              "tests": [
                {
                  "name": "__main__.test_excess_returns",
                  "success": false,
                  "message": "AttributeError: 'ellipsis' object has no attribute 'equals'\n"
                }
              ]
            }
          },
          "metadata": {
            "tags": []
          }
        },
        {
          "output_type": "execute_result",
          "data": {
            "text/plain": [
              "0/1 tests passed; 1 failed\n",
              "========\n",
              "__main__.test_excess_returns\n",
              "========\n",
              "Traceback (most recent call last):\n",
              "  File \"/usr/lib/python3.6/unittest/case.py\", line 59, in testPartExecutor\n",
              "    yield\n",
              "  File \"/usr/lib/python3.6/unittest/case.py\", line 605, in run\n",
              "    testMethod()\n",
              "  File \"/usr/local/lib/python3.6/dist-packages/nose/case.py\", line 198, in runTest\n",
              "    self.test(*self.arg)\n",
              "  File \"<string>\", line 3, in test_excess_returns\n",
              "AttributeError: 'ellipsis' object has no attribute 'equals'\n",
              "\n"
            ]
          },
          "metadata": {
            "tags": []
          },
          "execution_count": 18
        }
      ]
    },
    {
      "cell_type": "markdown",
      "metadata": {
        "dc": {
          "key": "53"
        },
        "deletable": false,
        "editable": false,
        "run_control": {
          "frozen": true
        },
        "tags": [
          "context"
        ],
        "id": "-YXL1jQ6mlm0",
        "colab_type": "text"
      },
      "source": [
        "## 8. The Sharpe Ratio, Step 1: The Average Difference in Daily Returns Stocks vs S&P 500\n",
        "<p>Now we can finally start computing the Sharpe Ratio. First we need to calculate the average of the <code>excess_returns</code>. This tells us how much more or less the investment yields per day compared to the benchmark.</p>"
      ]
    },
    {
      "cell_type": "code",
      "metadata": {
        "dc": {
          "key": "53"
        },
        "tags": [
          "sample_code"
        ],
        "trusted": true,
        "id": "vPFjkSu2mlm1",
        "colab_type": "code",
        "colab": {}
      },
      "source": [
        "# calculate the mean of excess_returns \n",
        "# ... YOUR CODE FOR TASK 8 HERE ...\n",
        "avg_excess_return = ...\n",
        "\n",
        "# plot avg_excess_returns\n",
        "# ... YOUR CODE FOR TASK 8 HERE ...\n"
      ],
      "execution_count": null,
      "outputs": []
    },
    {
      "cell_type": "code",
      "metadata": {
        "dc": {
          "key": "53"
        },
        "tags": [
          "tests"
        ],
        "hide": true,
        "trusted": true,
        "id": "KYq-QiMXmlm4",
        "colab_type": "code",
        "colab": {},
        "outputId": "5fb3ff44-185f-40fc-f709-a3987a998c4a"
      },
      "source": [
        "%%nose\n",
        "\n",
        "def test_avg_excess_return():\n",
        "    assert avg_excess_return.equals(excess_returns.mean()), \\\n",
        "    'Did you use .mean()?'"
      ],
      "execution_count": null,
      "outputs": [
        {
          "output_type": "display_data",
          "data": {
            "application/json": {
              "success": false,
              "summary": {
                "tests": 1,
                "failures": 0,
                "errors": 1
              },
              "tests": [
                {
                  "name": "__main__.test_avg_excess_return",
                  "success": false,
                  "message": "AttributeError: 'ellipsis' object has no attribute 'equals'\n"
                }
              ]
            }
          },
          "metadata": {
            "tags": []
          }
        },
        {
          "output_type": "execute_result",
          "data": {
            "text/plain": [
              "0/1 tests passed; 1 failed\n",
              "========\n",
              "__main__.test_avg_excess_return\n",
              "========\n",
              "Traceback (most recent call last):\n",
              "  File \"/usr/lib/python3.6/unittest/case.py\", line 59, in testPartExecutor\n",
              "    yield\n",
              "  File \"/usr/lib/python3.6/unittest/case.py\", line 605, in run\n",
              "    testMethod()\n",
              "  File \"/usr/local/lib/python3.6/dist-packages/nose/case.py\", line 198, in runTest\n",
              "    self.test(*self.arg)\n",
              "  File \"<string>\", line 3, in test_avg_excess_return\n",
              "AttributeError: 'ellipsis' object has no attribute 'equals'\n",
              "\n"
            ]
          },
          "metadata": {
            "tags": []
          },
          "execution_count": 20
        }
      ]
    },
    {
      "cell_type": "markdown",
      "metadata": {
        "dc": {
          "key": "60"
        },
        "deletable": false,
        "editable": false,
        "run_control": {
          "frozen": true
        },
        "tags": [
          "context"
        ],
        "id": "qDu24Kt6mlm6",
        "colab_type": "text"
      },
      "source": [
        "## 9. The Sharpe Ratio, Step 2: Standard Deviation of the Return Difference\n",
        "<p>It looks like there was quite a bit of a difference between average daily returns for Amazon and Facebook.</p>\n",
        "<p>Next, we calculate the standard deviation of the <code>excess_returns</code>. This shows us the amount of risk an investment in the stocks implies as compared to an investment in the S&amp;P 500.</p>"
      ]
    },
    {
      "cell_type": "code",
      "metadata": {
        "dc": {
          "key": "60"
        },
        "tags": [
          "sample_code"
        ],
        "trusted": true,
        "id": "sw0-VsRlmlm6",
        "colab_type": "code",
        "colab": {}
      },
      "source": [
        "# calculate the standard deviations\n",
        "sd_excess_return = ...\n",
        "\n",
        "# plot the standard deviations\n",
        "# ... YOUR CODE FOR TASK 9 HERE ...\n"
      ],
      "execution_count": null,
      "outputs": []
    },
    {
      "cell_type": "code",
      "metadata": {
        "dc": {
          "key": "60"
        },
        "tags": [
          "tests"
        ],
        "hide": true,
        "trusted": true,
        "id": "ePUXGK24mlm8",
        "colab_type": "code",
        "colab": {},
        "outputId": "c5d247dc-f31c-4a25-e859-d5ad711c011d"
      },
      "source": [
        "%%nose\n",
        "\n",
        "def test_sd_excess():\n",
        "    assert sd_excess_return.equals(excess_returns.std()), \\\n",
        "    'Did you use .std() on excess_returns?'"
      ],
      "execution_count": null,
      "outputs": [
        {
          "output_type": "display_data",
          "data": {
            "application/json": {
              "success": false,
              "summary": {
                "tests": 1,
                "failures": 0,
                "errors": 1
              },
              "tests": [
                {
                  "name": "__main__.test_sd_excess",
                  "success": false,
                  "message": "AttributeError: 'ellipsis' object has no attribute 'equals'\n"
                }
              ]
            }
          },
          "metadata": {
            "tags": []
          }
        },
        {
          "output_type": "execute_result",
          "data": {
            "text/plain": [
              "0/1 tests passed; 1 failed\n",
              "========\n",
              "__main__.test_sd_excess\n",
              "========\n",
              "Traceback (most recent call last):\n",
              "  File \"/usr/lib/python3.6/unittest/case.py\", line 59, in testPartExecutor\n",
              "    yield\n",
              "  File \"/usr/lib/python3.6/unittest/case.py\", line 605, in run\n",
              "    testMethod()\n",
              "  File \"/usr/local/lib/python3.6/dist-packages/nose/case.py\", line 198, in runTest\n",
              "    self.test(*self.arg)\n",
              "  File \"<string>\", line 3, in test_sd_excess\n",
              "AttributeError: 'ellipsis' object has no attribute 'equals'\n",
              "\n"
            ]
          },
          "metadata": {
            "tags": []
          },
          "execution_count": 22
        }
      ]
    },
    {
      "cell_type": "markdown",
      "metadata": {
        "dc": {
          "key": "67"
        },
        "deletable": false,
        "editable": false,
        "run_control": {
          "frozen": true
        },
        "tags": [
          "context"
        ],
        "id": "mMGKx7aBmlm-",
        "colab_type": "text"
      },
      "source": [
        "## 10. Putting it all together\n",
        "<p>Now we just need to compute the ratio of <code>avg_excess_returns</code> and <code>sd_excess_returns</code>. The result is now finally the <em>Sharpe ratio</em> and indicates how much more (or less) return the investment opportunity under consideration yields per unit of risk.</p>\n",
        "<p>The Sharpe Ratio is often <em>annualized</em> by multiplying it by the square root of the number of periods. We have used daily data as input, so we'll use the square root of the number of trading days (5 days, 52 weeks, minus a few holidays): √252</p>"
      ]
    },
    {
      "cell_type": "code",
      "metadata": {
        "dc": {
          "key": "67"
        },
        "tags": [
          "sample_code"
        ],
        "trusted": true,
        "id": "wftkQ3Nsmlm_",
        "colab_type": "code",
        "colab": {}
      },
      "source": [
        "# calculate the daily sharpe ratio\n",
        "daily_sharpe_ratio = ...\n",
        "\n",
        "# annualize the sharpe ratio\n",
        "annual_factor = ...\n",
        "annual_sharpe_ratio = ...\n",
        "\n",
        "# plot the annualized sharpe ratio\n",
        "# ... YOUR CODE FOR TASK 10 HERE ...\n"
      ],
      "execution_count": null,
      "outputs": []
    },
    {
      "cell_type": "code",
      "metadata": {
        "dc": {
          "key": "67"
        },
        "tags": [
          "tests"
        ],
        "hide": true,
        "trusted": true,
        "id": "WV3ovkysmlnB",
        "colab_type": "code",
        "colab": {},
        "outputId": "cce1a7c4-85a0-47ae-cb27-4770a01d137a"
      },
      "source": [
        "%%nose\n",
        "\n",
        "def test_daily_sharpe():\n",
        "    assert daily_sharpe_ratio.equals(avg_excess_return.div(sd_excess_return)), \\\n",
        "    'Did you use .div() avg_excess_return and sd_excess_return?'\n",
        "    \n",
        "def test_annual_factor():\n",
        "    assert annual_factor == np.sqrt(252), 'Did you apply np.sqrt() to, number_of_trading_days?'\n",
        "    \n",
        "def test_annual_sharpe():\n",
        "    assert annual_sharpe_ratio.equals(daily_sharpe_ratio.mul(annual_factor)), 'Did you use .mul() with daily_sharpe_ratio and annual_factor?'"
      ],
      "execution_count": null,
      "outputs": [
        {
          "output_type": "display_data",
          "data": {
            "application/json": {
              "success": false,
              "summary": {
                "tests": 3,
                "failures": 1,
                "errors": 2
              },
              "tests": [
                {
                  "name": "__main__.test_daily_sharpe",
                  "success": false,
                  "message": "AttributeError: 'ellipsis' object has no attribute 'equals'\n"
                },
                {
                  "name": "__main__.test_annual_factor",
                  "success": false,
                  "message": "AssertionError: Did you apply np.sqrt() to, number_of_trading_days?\n"
                },
                {
                  "name": "__main__.test_annual_sharpe",
                  "success": false,
                  "message": "AttributeError: 'ellipsis' object has no attribute 'equals'\n"
                }
              ]
            }
          },
          "metadata": {
            "tags": []
          }
        },
        {
          "output_type": "execute_result",
          "data": {
            "text/plain": [
              "0/3 tests passed; 3 failed\n",
              "========\n",
              "__main__.test_daily_sharpe\n",
              "========\n",
              "Traceback (most recent call last):\n",
              "  File \"/usr/lib/python3.6/unittest/case.py\", line 59, in testPartExecutor\n",
              "    yield\n",
              "  File \"/usr/lib/python3.6/unittest/case.py\", line 605, in run\n",
              "    testMethod()\n",
              "  File \"/usr/local/lib/python3.6/dist-packages/nose/case.py\", line 198, in runTest\n",
              "    self.test(*self.arg)\n",
              "  File \"<string>\", line 3, in test_daily_sharpe\n",
              "AttributeError: 'ellipsis' object has no attribute 'equals'\n",
              "\n",
              "========\n",
              "__main__.test_annual_factor\n",
              "========\n",
              "Traceback (most recent call last):\n",
              "  File \"/usr/lib/python3.6/unittest/case.py\", line 59, in testPartExecutor\n",
              "    yield\n",
              "  File \"/usr/lib/python3.6/unittest/case.py\", line 605, in run\n",
              "    testMethod()\n",
              "  File \"/usr/local/lib/python3.6/dist-packages/nose/case.py\", line 198, in runTest\n",
              "    self.test(*self.arg)\n",
              "  File \"<string>\", line 7, in test_annual_factor\n",
              "AssertionError: Did you apply np.sqrt() to, number_of_trading_days?\n",
              "\n",
              "========\n",
              "__main__.test_annual_sharpe\n",
              "========\n",
              "Traceback (most recent call last):\n",
              "  File \"/usr/lib/python3.6/unittest/case.py\", line 59, in testPartExecutor\n",
              "    yield\n",
              "  File \"/usr/lib/python3.6/unittest/case.py\", line 605, in run\n",
              "    testMethod()\n",
              "  File \"/usr/local/lib/python3.6/dist-packages/nose/case.py\", line 198, in runTest\n",
              "    self.test(*self.arg)\n",
              "  File \"<string>\", line 10, in test_annual_sharpe\n",
              "AttributeError: 'ellipsis' object has no attribute 'equals'\n",
              "\n"
            ]
          },
          "metadata": {
            "tags": []
          },
          "execution_count": 24
        }
      ]
    },
    {
      "cell_type": "markdown",
      "metadata": {
        "dc": {
          "key": "74"
        },
        "deletable": false,
        "editable": false,
        "run_control": {
          "frozen": true
        },
        "tags": [
          "context"
        ],
        "id": "p4Vnk2Z1mlnD",
        "colab_type": "text"
      },
      "source": [
        "## 11. Conclusion\n",
        "<p>Given the two Sharpe ratios, which investment should we go for? In 2016, Amazon had a Sharpe ratio twice as high as Facebook. This means that an investment in Amazon returned twice as much compared to the S&amp;P 500 for each unit of risk an investor would have assumed. In other words, in risk-adjusted terms, the investment in Amazon would have been more attractive.</p>\n",
        "<p>This difference was mostly driven by differences in return rather than risk between Amazon and Facebook. The risk of choosing Amazon over FB (as measured by the standard deviation) was only slightly higher so that the higher Sharpe ratio for Amazon ends up higher mainly due to the higher average daily returns for Amazon. </p>\n",
        "<p>When faced with investment alternatives that offer both different returns and risks, the Sharpe Ratio helps to make a decision by adjusting the returns by the differences in risk and allows an investor to compare investment opportunities on equal terms, that is, on an 'apples-to-apples' basis.</p>"
      ]
    },
    {
      "cell_type": "code",
      "metadata": {
        "dc": {
          "key": "74"
        },
        "tags": [
          "sample_code"
        ],
        "trusted": true,
        "id": "ZlW2IFXXmlnD",
        "colab_type": "code",
        "colab": {}
      },
      "source": [
        "# Uncomment your choice.\n",
        "# buy_amazon = True\n",
        "# buy_facebook = True"
      ],
      "execution_count": null,
      "outputs": []
    },
    {
      "cell_type": "code",
      "metadata": {
        "dc": {
          "key": "74"
        },
        "tags": [
          "tests"
        ],
        "hide": true,
        "trusted": true,
        "id": "XbWZo83NmlnG",
        "colab_type": "code",
        "colab": {},
        "outputId": "b876d1f5-751b-4f25-d1b0-b855023125b7"
      },
      "source": [
        "%%nose\n",
        "\n",
        "def test_decision():\n",
        "    assert 'buy_amazon' in globals() and buy_amazon == True, \\\n",
        "    'Which stock has the higher Sharpe Ratio'"
      ],
      "execution_count": null,
      "outputs": [
        {
          "output_type": "display_data",
          "data": {
            "application/json": {
              "success": false,
              "summary": {
                "tests": 1,
                "failures": 1,
                "errors": 0
              },
              "tests": [
                {
                  "name": "__main__.test_decision",
                  "success": false,
                  "message": "AssertionError: Which stock has the higher Sharpe Ratio\n"
                }
              ]
            }
          },
          "metadata": {
            "tags": []
          }
        },
        {
          "output_type": "execute_result",
          "data": {
            "text/plain": [
              "0/1 tests passed; 1 failed\n",
              "========\n",
              "__main__.test_decision\n",
              "========\n",
              "Traceback (most recent call last):\n",
              "  File \"/usr/lib/python3.6/unittest/case.py\", line 59, in testPartExecutor\n",
              "    yield\n",
              "  File \"/usr/lib/python3.6/unittest/case.py\", line 605, in run\n",
              "    testMethod()\n",
              "  File \"/usr/local/lib/python3.6/dist-packages/nose/case.py\", line 198, in runTest\n",
              "    self.test(*self.arg)\n",
              "  File \"<string>\", line 4, in test_decision\n",
              "AssertionError: Which stock has the higher Sharpe Ratio\n",
              "\n"
            ]
          },
          "metadata": {
            "tags": []
          },
          "execution_count": 26
        }
      ]
    }
  ]
}